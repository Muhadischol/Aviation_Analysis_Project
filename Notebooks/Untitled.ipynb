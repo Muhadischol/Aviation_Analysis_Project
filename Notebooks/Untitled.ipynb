{
 "cells": [
  {
   "cell_type": "markdown",
   "id": "8d5ffcf8-22db-4901-8000-bd63cb98c166",
   "metadata": {},
   "source": [
    "# Aviation Accidents Analysis"
   ]
  },
  {
   "cell_type": "markdown",
   "id": "10189a50-b865-4ed8-a4f5-e0d6e13ec379",
   "metadata": {},
   "source": [
    "## 1. Overview\n",
    "\n",
    "A company I am working with is planning to diversify its portfolio by exploring new areas, particularly the aviation industry. The leadership is interested in the risks associated with aircraft operations, mainly safety and reliability. It is on that background that as a senior data scientist in the company that the management tusked me with the responsibility of carrying out data analysis to assist the management in making informed investment decisions to determine which aircraft presents the lowest operational risk.\n"
   ]
  },
  {
   "cell_type": "markdown",
   "id": "793ea14d-fa4b-40f0-a95d-1a348da81251",
   "metadata": {},
   "source": [
    "## 2. Business Understanding\n",
    "To find out the safest and most reliable aircraft for the company to purchase based on an analysis of accident and incident data collected over the years. Therefore, the company wants to:\n",
    "* Minimize accident frequency\n",
    "* low fetality count\n"
   ]
  },
  {
   "cell_type": "code",
   "execution_count": 3,
   "id": "8dca7ef8-8012-4ad2-9643-31cef689d3cd",
   "metadata": {},
   "outputs": [],
   "source": [
    "# importing libraries\n",
    "import pandas as pd\n",
    "import numpy as np\n",
    "import matplotlib.pyplot as plt\n",
    "import seaborn as sns"
   ]
  },
  {
   "cell_type": "code",
   "execution_count": 7,
   "id": "e79c7cc3-12bc-45f7-a442-cffb6c46b71f",
   "metadata": {
    "scrolled": true
   },
   "outputs": [],
   "source": [
    "# Loading accident data to the notebook\n",
    "aviation_data = pd.read_csv(\"../Data/AviationData.csv\", index_col = 0, encoding = \"latin1\", low_memory = False)"
   ]
  },
  {
   "cell_type": "markdown",
   "id": "3c7377fb-646c-4cf9-b774-445071febf57",
   "metadata": {},
   "source": [
    "## 3. Data Science Understanding\n",
    "Analyze accident data collected over the years to establish which aircraft has the lowest risk by using risk indicators such as accident frequency, fatality rate, and severity of injuries.\n",
    "This will involve the following analysis:\n",
    "* Cleaning and processing Aviation Data\n",
    "* Grouping aircraft by make and model\n",
    "* Calculating the safety matrix per aircraft type\n",
    "* Visualizing patterns of high-risk and low-risk aircrafts\n"
   ]
  },
  {
   "cell_type": "markdown",
   "id": "86b335c9-da6c-4e16-819f-3d3da19649df",
   "metadata": {},
   "source": [
    "## 4. Data Preparation"
   ]
  },
  {
   "cell_type": "markdown",
   "id": "0e7f51b7-996b-409d-9c46-a8051d1aadaf",
   "metadata": {},
   "source": [
    "## 5. Exploratory Data Analysis"
   ]
  },
  {
   "cell_type": "markdown",
   "id": "793c14c4-86a3-4301-890f-7a6ccb4e4245",
   "metadata": {},
   "source": [
    "## 6. Recommendations"
   ]
  },
  {
   "cell_type": "code",
   "execution_count": null,
   "id": "8ab76b3a-9b0c-42ca-992c-8ebb54c9c83c",
   "metadata": {},
   "outputs": [],
   "source": []
  }
 ],
 "metadata": {
  "kernelspec": {
   "display_name": "Python (learn-env)",
   "language": "python",
   "name": "learn-env"
  },
  "language_info": {
   "codemirror_mode": {
    "name": "ipython",
    "version": 3
   },
   "file_extension": ".py",
   "mimetype": "text/x-python",
   "name": "python",
   "nbconvert_exporter": "python",
   "pygments_lexer": "ipython3",
   "version": "3.10.14"
  }
 },
 "nbformat": 4,
 "nbformat_minor": 5
}
